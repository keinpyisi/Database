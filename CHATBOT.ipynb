{
  "cells": [
    {
      "cell_type": "markdown",
      "metadata": {
        "id": "view-in-github",
        "colab_type": "text"
      },
      "source": [
        "<a href=\"https://colab.research.google.com/github/keinpyisi/Database/blob/main/CHATBOT.ipynb\" target=\"_parent\"><img src=\"https://colab.research.google.com/assets/colab-badge.svg\" alt=\"Open In Colab\"/></a>"
      ]
    },
    {
      "cell_type": "code",
      "execution_count": 33,
      "metadata": {
        "id": "nQYsHMvwA6Tz"
      },
      "outputs": [],
      "source": [
        "# importing modules\n",
        "import pandas as pd\n",
        "from sklearn.feature_extraction.text import TfidfVectorizer\n",
        "from sklearn.preprocessing import LabelEncoder\n",
        "from tensorflow.keras import Sequential\n",
        "from tensorflow.keras.layers import Dense\n",
        "from tensorflow.keras.models import save_model\n",
        "import requests"
      ]
    },
    {
      "cell_type": "code",
      "source": [
        "#Getting Encoder for Myanmar Chars\n",
        "converter = \"https://raw.githubusercontent.com/keinpyisi/Database/main/chatbot/converter.json\"\n",
        "response = requests.get(converter)\n",
        "open(\"converter.json\", \"wb\").write(response.content)"
      ],
      "metadata": {
        "colab": {
          "base_uri": "https://localhost:8080/"
        },
        "id": "AswEAMJr01V5",
        "outputId": "97083d95-fa45-46d5-fab6-9af63b6a6957"
      },
      "execution_count": 34,
      "outputs": [
        {
          "output_type": "execute_result",
          "data": {
            "text/plain": [
              "4113"
            ]
          },
          "metadata": {},
          "execution_count": 34
        }
      ]
    },
    {
      "cell_type": "code",
      "source": [
        "#Getting Data To Train\n",
        "rawcsv = \"https://raw.githubusercontent.com/keinpyisi/Database/main/chatbot/training_data_eng_tag.csv\"\n",
        "response = requests.get(rawcsv)\n",
        "open(\"training_data_eng_tag.csv\", \"wb\").write(response.content)"
      ],
      "metadata": {
        "colab": {
          "base_uri": "https://localhost:8080/"
        },
        "id": "Zlpmog_g1Fqf",
        "outputId": "a96c78ae-ba69-4714-e486-78f4ab60fb86"
      },
      "execution_count": 35,
      "outputs": [
        {
          "output_type": "execute_result",
          "data": {
            "text/plain": [
              "33561"
            ]
          },
          "metadata": {},
          "execution_count": 35
        }
      ]
    },
    {
      "cell_type": "code",
      "execution_count": 36,
      "metadata": {
        "id": "Wu_TwIChHc_3"
      },
      "outputs": [],
      "source": [
        "def encode(character):\n",
        "  cha=character\n",
        "  \n",
        "  # Opening JSON file\n",
        "  f = open('converter.json')\n",
        "    \n",
        "  # returns JSON object as \n",
        "  # a dictionary\n",
        "  data = json.load(f)\n",
        "\n",
        "  # Iterating through the json\n",
        "  # list\n",
        "  for i in data:\n",
        "      fromdata=i.get('from')\n",
        "      if(fromdata.__eq__(character)):\n",
        "        # Closing file\n",
        "        f.close()\n",
        "        return i.get('to')\n",
        "\n",
        "    "
      ]
    },
    {
      "cell_type": "code",
      "execution_count": 37,
      "metadata": {
        "id": "yzYJj8UTHdtX"
      },
      "outputs": [],
      "source": [
        "def decode(character):\n",
        "  cha=character\n",
        "  \n",
        "  # Opening JSON file\n",
        "  f = open('converter.json')\n",
        "    \n",
        "  # returns JSON object as \n",
        "  # a dictionary\n",
        "  data = json.load(f)\n",
        "\n",
        "  # Iterating through the json\n",
        "  # list\n",
        "  for i in data:\n",
        "      fromdata=i.get('to')\n",
        "      if(fromdata.__eq__(character)):\n",
        "        # Closing file\n",
        "        f.close()\n",
        "        return i.get('from')\n",
        "\n",
        "    \n",
        "  "
      ]
    },
    {
      "cell_type": "code",
      "execution_count": null,
      "metadata": {
        "id": "lTmyg-WzKVRu"
      },
      "outputs": [],
      "source": [
        "from csv import reader\n",
        "import json \n",
        "import csv\n",
        "# open file in read mode\n",
        "with open('training_data_eng_tag.csv', 'r') as read_obj:\n",
        "        # name of csv file \n",
        "    filename = \"training_data.csv\"\n",
        "    csv_reader = reader(read_obj)\n",
        "    \n",
        "        \n",
        "    # writing to csv file \n",
        "    with open(filename, 'w') as csvfile: \n",
        "      csv_output = csv.writer(csvfile)\n",
        "      # pass the file object to reader() to get the reader object\n",
        "      \n",
        "      i=next(csv_reader, None)  # skip the headers\n",
        "      csv_output.writerow(i)\n",
        "      # Iterate over each row in the csv using reader object\n",
        "      for row in csv_reader:\n",
        "          # row variable is a list that represents a row in csv\n",
        "          append=\"\"\n",
        "          for char in row[0]:\n",
        "            if(encode(char) is None):\n",
        "              print(char)\n",
        "              break\n",
        "            char=encode(char)\n",
        "            append+=char\n",
        "          \n",
        "          row[0]=append\n",
        "          csv_output.writerow(row)\n",
        "          print(append)\n",
        "        \n"
      ]
    },
    {
      "cell_type": "code",
      "execution_count": 39,
      "metadata": {
        "id": "LzL88W4VA8gC"
      },
      "outputs": [],
      "source": [
        "# importing training data\n",
        "training_data = pd.read_csv(\"training_data.csv\")"
      ]
    },
    {
      "cell_type": "code",
      "execution_count": 40,
      "metadata": {
        "id": "IcMoTTM1BAEO"
      },
      "outputs": [],
      "source": [
        "# preprocessing training data\n",
        "#training_data[\"patterns\"] = training_data[\"patterns\"].str.lower()\n",
        "vectorizer = TfidfVectorizer(ngram_range=(1, 2))\n",
        "training_data_tfidf = vectorizer.fit_transform(training_data[\"patterns\"]).toarray()"
      ]
    },
    {
      "cell_type": "code",
      "execution_count": 41,
      "metadata": {
        "id": "yGb0blTlBKMB"
      },
      "outputs": [],
      "source": [
        "# preprocessing target variable(tags)\n",
        "le = LabelEncoder()\n",
        "training_data_tags_le = pd.DataFrame({\"tags\": le.fit_transform(training_data[\"tags\"])})\n",
        "training_data_tags_dummy_encoded = pd.get_dummies(training_data_tags_le[\"tags\"]).to_numpy()"
      ]
    },
    {
      "cell_type": "code",
      "execution_count": 42,
      "metadata": {
        "id": "DZUuT742BL_Q"
      },
      "outputs": [],
      "source": [
        "# creating DNN\n",
        "chatbot = Sequential()\n",
        "chatbot.add(Dense(10, input_shape=(len(training_data_tfidf[0]),)))\n",
        "chatbot.add(Dense(8))\n",
        "chatbot.add(Dense(8))\n",
        "chatbot.add(Dense(6))\n",
        "chatbot.add(Dense(6))\n",
        "\n",
        "\n",
        "chatbot.add(Dense(len(training_data_tags_dummy_encoded[0]), activation=\"softmax\"))\n",
        "chatbot.compile(optimizer=\"rmsprop\", loss=\"categorical_crossentropy\", metrics=[\"accuracy\"])"
      ]
    },
    {
      "cell_type": "code",
      "execution_count": null,
      "metadata": {
        "id": "OEO3rBnPBPvF"
      },
      "outputs": [],
      "source": [
        "# fitting DNN\n",
        "chatbot.fit(training_data_tfidf, training_data_tags_dummy_encoded, epochs=50, batch_size=32)"
      ]
    },
    {
      "cell_type": "code",
      "execution_count": 44,
      "metadata": {
        "id": "_uApSxwABVwb",
        "colab": {
          "base_uri": "https://localhost:8080/"
        },
        "outputId": "6fb2fdd8-6e50-4d64-919e-0426b15ebd80"
      },
      "outputs": [
        {
          "output_type": "stream",
          "name": "stdout",
          "text": [
            "INFO:tensorflow:Assets written to: chatbot/assets\n"
          ]
        }
      ],
      "source": [
        "# saving model file\n",
        "save_model(chatbot, \"chatbot\")"
      ]
    },
    {
      "cell_type": "code",
      "execution_count": 45,
      "metadata": {
        "id": "aM3WVUrtBXAM"
      },
      "outputs": [],
      "source": [
        "# importing modules\n",
        "import pandas as pd\n",
        "from sklearn.feature_extraction.text import TfidfVectorizer\n",
        "from sklearn.preprocessing import LabelEncoder\n",
        "import numpy as np\n",
        "from tensorflow.keras.models import load_model\n",
        "import json\n",
        "import random"
      ]
    },
    {
      "cell_type": "code",
      "execution_count": 46,
      "metadata": {
        "id": "a5NmPk4WBfV0"
      },
      "outputs": [],
      "source": [
        "# importing training data\n",
        "training_data = pd.read_csv(\"training_data.csv\")\n",
        "# loading model\n",
        "chatbot = load_model(\"chatbot\")\n",
        "# loading responses\n",
        "#responses = json.load(open(\"responses.json\", \"r\"))"
      ]
    },
    {
      "cell_type": "code",
      "execution_count": 47,
      "metadata": {
        "id": "neodOlrLBhuJ",
        "colab": {
          "base_uri": "https://localhost:8080/"
        },
        "outputId": "2a12d5c8-41de-48f2-e5c4-dbf93aaa7472"
      },
      "outputs": [
        {
          "output_type": "execute_result",
          "data": {
            "text/plain": [
              "TfidfVectorizer(ngram_range=(1, 2))"
            ]
          },
          "metadata": {},
          "execution_count": 47
        }
      ],
      "source": [
        "# fitting TfIdfVectorizer with training data to preprocess inputs\n",
        "#training_data[\"patterns\"] = training_data[\"patterns\"].str.lower()\n",
        "vectorizer = TfidfVectorizer(ngram_range=(1, 2))\n",
        "vectorizer.fit(training_data[\"patterns\"])"
      ]
    },
    {
      "cell_type": "code",
      "execution_count": 48,
      "metadata": {
        "id": "WdCXQiJhBkCA",
        "colab": {
          "base_uri": "https://localhost:8080/"
        },
        "outputId": "3d6d3f03-0ebb-4c6d-8e1b-1f58127d83a4"
      },
      "outputs": [
        {
          "output_type": "execute_result",
          "data": {
            "text/plain": [
              "LabelEncoder()"
            ]
          },
          "metadata": {},
          "execution_count": 48
        }
      ],
      "source": [
        "# fitting LabelEncoder with target variable(tags) for inverse transformation of predictions\n",
        "le = LabelEncoder()\n",
        "le.fit(training_data[\"tags\"])"
      ]
    },
    {
      "cell_type": "code",
      "execution_count": 49,
      "metadata": {
        "id": "_Vf68BLeBmYD"
      },
      "outputs": [],
      "source": [
        "# transforming input and predicting intent\n",
        "def predict_tag(inp_str):\n",
        "    inp_data_tfidf = vectorizer.transform([inp_str]).toarray()\n",
        "    predicted_proba = chatbot.predict(inp_data_tfidf)\n",
        "    encoded_label = [np.argmax(predicted_proba)]\n",
        "    predicted_tag = le.inverse_transform(encoded_label)[0]\n",
        "    \n",
        "    return predicted_tag"
      ]
    },
    {
      "cell_type": "code",
      "execution_count": 50,
      "metadata": {
        "id": "xKYcTveYBq4Q"
      },
      "outputs": [],
      "source": [
        "# defining chat function\n",
        "def start_chat():\n",
        "    print(\"---------------  AI Chat bot  ---------------\")\n",
        "    print(\"Ask any queries...\")\n",
        "    print(\"I will try to understand you and reply...\")\n",
        "    print(\"Type EXIT to quit...\")\n",
        "    while True:\n",
        "        inp = input(\"Ask anything... : \")\n",
        "        print(encode(inp))\n",
        "        if inp == \"EXIT\":\n",
        "            break\n",
        "        else:\n",
        "            append=\"\"\n",
        "            for char in inp:\n",
        "              if(encode(char) is None):\n",
        "                print(char)\n",
        "                break\n",
        "              char=encode(char)\n",
        "              append+=char\n",
        "            if inp:\n",
        "                tag = predict_tag(append)\n",
        "                #Return Tag\n",
        "                #response = random.choice(responses[tag])\n",
        "                #Search Response with Tag and Random it \n",
        "                print(\"Response... : \", tag)\n",
        "            else:\n",
        "                pass"
      ]
    },
    {
      "cell_type": "code",
      "execution_count": 51,
      "metadata": {
        "id": "ThKZr4zyBsxp",
        "colab": {
          "base_uri": "https://localhost:8080/",
          "height": 711
        },
        "outputId": "48e51c78-e941-4152-95c3-ba534687a4ed"
      },
      "outputs": [
        {
          "output_type": "stream",
          "name": "stdout",
          "text": [
            "---------------  AI Chat bot  ---------------\n",
            "Ask any queries...\n",
            "I will try to understand you and reply...\n",
            "Type EXIT to quit...\n",
            "Ask anything... : ပျင်းလိုက်တာ\n",
            "None\n",
            "Response... :  other admissions\n"
          ]
        },
        {
          "output_type": "error",
          "ename": "KeyboardInterrupt",
          "evalue": "ignored",
          "traceback": [
            "\u001b[0;31m---------------------------------------------------------------------------\u001b[0m",
            "\u001b[0;31mKeyboardInterrupt\u001b[0m                         Traceback (most recent call last)",
            "\u001b[0;32m/usr/local/lib/python3.7/dist-packages/ipykernel/kernelbase.py\u001b[0m in \u001b[0;36m_input_request\u001b[0;34m(self, prompt, ident, parent, password)\u001b[0m\n\u001b[1;32m    728\u001b[0m             \u001b[0;32mtry\u001b[0m\u001b[0;34m:\u001b[0m\u001b[0;34m\u001b[0m\u001b[0;34m\u001b[0m\u001b[0m\n\u001b[0;32m--> 729\u001b[0;31m                 \u001b[0mident\u001b[0m\u001b[0;34m,\u001b[0m \u001b[0mreply\u001b[0m \u001b[0;34m=\u001b[0m \u001b[0mself\u001b[0m\u001b[0;34m.\u001b[0m\u001b[0msession\u001b[0m\u001b[0;34m.\u001b[0m\u001b[0mrecv\u001b[0m\u001b[0;34m(\u001b[0m\u001b[0mself\u001b[0m\u001b[0;34m.\u001b[0m\u001b[0mstdin_socket\u001b[0m\u001b[0;34m,\u001b[0m \u001b[0;36m0\u001b[0m\u001b[0;34m)\u001b[0m\u001b[0;34m\u001b[0m\u001b[0;34m\u001b[0m\u001b[0m\n\u001b[0m\u001b[1;32m    730\u001b[0m             \u001b[0;32mexcept\u001b[0m \u001b[0mException\u001b[0m\u001b[0;34m:\u001b[0m\u001b[0;34m\u001b[0m\u001b[0;34m\u001b[0m\u001b[0m\n",
            "\u001b[0;32m/usr/local/lib/python3.7/dist-packages/jupyter_client/session.py\u001b[0m in \u001b[0;36mrecv\u001b[0;34m(self, socket, mode, content, copy)\u001b[0m\n\u001b[1;32m    802\u001b[0m         \u001b[0;32mtry\u001b[0m\u001b[0;34m:\u001b[0m\u001b[0;34m\u001b[0m\u001b[0;34m\u001b[0m\u001b[0m\n\u001b[0;32m--> 803\u001b[0;31m             \u001b[0mmsg_list\u001b[0m \u001b[0;34m=\u001b[0m \u001b[0msocket\u001b[0m\u001b[0;34m.\u001b[0m\u001b[0mrecv_multipart\u001b[0m\u001b[0;34m(\u001b[0m\u001b[0mmode\u001b[0m\u001b[0;34m,\u001b[0m \u001b[0mcopy\u001b[0m\u001b[0;34m=\u001b[0m\u001b[0mcopy\u001b[0m\u001b[0;34m)\u001b[0m\u001b[0;34m\u001b[0m\u001b[0;34m\u001b[0m\u001b[0m\n\u001b[0m\u001b[1;32m    804\u001b[0m         \u001b[0;32mexcept\u001b[0m \u001b[0mzmq\u001b[0m\u001b[0;34m.\u001b[0m\u001b[0mZMQError\u001b[0m \u001b[0;32mas\u001b[0m \u001b[0me\u001b[0m\u001b[0;34m:\u001b[0m\u001b[0;34m\u001b[0m\u001b[0;34m\u001b[0m\u001b[0m\n",
            "\u001b[0;32m/usr/local/lib/python3.7/dist-packages/zmq/sugar/socket.py\u001b[0m in \u001b[0;36mrecv_multipart\u001b[0;34m(self, flags, copy, track)\u001b[0m\n\u001b[1;32m    726\u001b[0m         \"\"\"\n\u001b[0;32m--> 727\u001b[0;31m         \u001b[0mparts\u001b[0m \u001b[0;34m=\u001b[0m \u001b[0;34m[\u001b[0m\u001b[0mself\u001b[0m\u001b[0;34m.\u001b[0m\u001b[0mrecv\u001b[0m\u001b[0;34m(\u001b[0m\u001b[0mflags\u001b[0m\u001b[0;34m,\u001b[0m \u001b[0mcopy\u001b[0m\u001b[0;34m=\u001b[0m\u001b[0mcopy\u001b[0m\u001b[0;34m,\u001b[0m \u001b[0mtrack\u001b[0m\u001b[0;34m=\u001b[0m\u001b[0mtrack\u001b[0m\u001b[0;34m)\u001b[0m\u001b[0;34m]\u001b[0m\u001b[0;34m\u001b[0m\u001b[0;34m\u001b[0m\u001b[0m\n\u001b[0m\u001b[1;32m    728\u001b[0m         \u001b[0;31m# have first part already, only loop while more to receive\u001b[0m\u001b[0;34m\u001b[0m\u001b[0;34m\u001b[0m\u001b[0;34m\u001b[0m\u001b[0m\n",
            "\u001b[0;32mzmq/backend/cython/socket.pyx\u001b[0m in \u001b[0;36mzmq.backend.cython.socket.Socket.recv\u001b[0;34m()\u001b[0m\n",
            "\u001b[0;32mzmq/backend/cython/socket.pyx\u001b[0m in \u001b[0;36mzmq.backend.cython.socket.Socket.recv\u001b[0;34m()\u001b[0m\n",
            "\u001b[0;32mzmq/backend/cython/socket.pyx\u001b[0m in \u001b[0;36mzmq.backend.cython.socket._recv_copy\u001b[0;34m()\u001b[0m\n",
            "\u001b[0;32m/usr/local/lib/python3.7/dist-packages/zmq/backend/cython/checkrc.pxd\u001b[0m in \u001b[0;36mzmq.backend.cython.checkrc._check_rc\u001b[0;34m()\u001b[0m\n",
            "\u001b[0;31mKeyboardInterrupt\u001b[0m: ",
            "\nDuring handling of the above exception, another exception occurred:\n",
            "\u001b[0;31mKeyboardInterrupt\u001b[0m                         Traceback (most recent call last)",
            "\u001b[0;32m<ipython-input-51-890f501b718b>\u001b[0m in \u001b[0;36m<module>\u001b[0;34m()\u001b[0m\n\u001b[1;32m      1\u001b[0m \u001b[0;31m# calling chat function to start chatting\u001b[0m\u001b[0;34m\u001b[0m\u001b[0;34m\u001b[0m\u001b[0;34m\u001b[0m\u001b[0m\n\u001b[0;32m----> 2\u001b[0;31m \u001b[0mstart_chat\u001b[0m\u001b[0;34m(\u001b[0m\u001b[0;34m)\u001b[0m\u001b[0;34m\u001b[0m\u001b[0;34m\u001b[0m\u001b[0m\n\u001b[0m",
            "\u001b[0;32m<ipython-input-50-96f7d0cca84f>\u001b[0m in \u001b[0;36mstart_chat\u001b[0;34m()\u001b[0m\n\u001b[1;32m      6\u001b[0m     \u001b[0mprint\u001b[0m\u001b[0;34m(\u001b[0m\u001b[0;34m\"Type EXIT to quit...\"\u001b[0m\u001b[0;34m)\u001b[0m\u001b[0;34m\u001b[0m\u001b[0;34m\u001b[0m\u001b[0m\n\u001b[1;32m      7\u001b[0m     \u001b[0;32mwhile\u001b[0m \u001b[0;32mTrue\u001b[0m\u001b[0;34m:\u001b[0m\u001b[0;34m\u001b[0m\u001b[0;34m\u001b[0m\u001b[0m\n\u001b[0;32m----> 8\u001b[0;31m         \u001b[0minp\u001b[0m \u001b[0;34m=\u001b[0m \u001b[0minput\u001b[0m\u001b[0;34m(\u001b[0m\u001b[0;34m\"Ask anything... : \"\u001b[0m\u001b[0;34m)\u001b[0m\u001b[0;34m\u001b[0m\u001b[0;34m\u001b[0m\u001b[0m\n\u001b[0m\u001b[1;32m      9\u001b[0m         \u001b[0mprint\u001b[0m\u001b[0;34m(\u001b[0m\u001b[0mencode\u001b[0m\u001b[0;34m(\u001b[0m\u001b[0minp\u001b[0m\u001b[0;34m)\u001b[0m\u001b[0;34m)\u001b[0m\u001b[0;34m\u001b[0m\u001b[0;34m\u001b[0m\u001b[0m\n\u001b[1;32m     10\u001b[0m         \u001b[0;32mif\u001b[0m \u001b[0minp\u001b[0m \u001b[0;34m==\u001b[0m \u001b[0;34m\"EXIT\"\u001b[0m\u001b[0;34m:\u001b[0m\u001b[0;34m\u001b[0m\u001b[0;34m\u001b[0m\u001b[0m\n",
            "\u001b[0;32m/usr/local/lib/python3.7/dist-packages/ipykernel/kernelbase.py\u001b[0m in \u001b[0;36mraw_input\u001b[0;34m(self, prompt)\u001b[0m\n\u001b[1;32m    702\u001b[0m             \u001b[0mself\u001b[0m\u001b[0;34m.\u001b[0m\u001b[0m_parent_ident\u001b[0m\u001b[0;34m,\u001b[0m\u001b[0;34m\u001b[0m\u001b[0;34m\u001b[0m\u001b[0m\n\u001b[1;32m    703\u001b[0m             \u001b[0mself\u001b[0m\u001b[0;34m.\u001b[0m\u001b[0m_parent_header\u001b[0m\u001b[0;34m,\u001b[0m\u001b[0;34m\u001b[0m\u001b[0;34m\u001b[0m\u001b[0m\n\u001b[0;32m--> 704\u001b[0;31m             \u001b[0mpassword\u001b[0m\u001b[0;34m=\u001b[0m\u001b[0;32mFalse\u001b[0m\u001b[0;34m,\u001b[0m\u001b[0;34m\u001b[0m\u001b[0;34m\u001b[0m\u001b[0m\n\u001b[0m\u001b[1;32m    705\u001b[0m         )\n\u001b[1;32m    706\u001b[0m \u001b[0;34m\u001b[0m\u001b[0m\n",
            "\u001b[0;32m/usr/local/lib/python3.7/dist-packages/ipykernel/kernelbase.py\u001b[0m in \u001b[0;36m_input_request\u001b[0;34m(self, prompt, ident, parent, password)\u001b[0m\n\u001b[1;32m    732\u001b[0m             \u001b[0;32mexcept\u001b[0m \u001b[0mKeyboardInterrupt\u001b[0m\u001b[0;34m:\u001b[0m\u001b[0;34m\u001b[0m\u001b[0;34m\u001b[0m\u001b[0m\n\u001b[1;32m    733\u001b[0m                 \u001b[0;31m# re-raise KeyboardInterrupt, to truncate traceback\u001b[0m\u001b[0;34m\u001b[0m\u001b[0;34m\u001b[0m\u001b[0;34m\u001b[0m\u001b[0m\n\u001b[0;32m--> 734\u001b[0;31m                 \u001b[0;32mraise\u001b[0m \u001b[0mKeyboardInterrupt\u001b[0m\u001b[0;34m\u001b[0m\u001b[0;34m\u001b[0m\u001b[0m\n\u001b[0m\u001b[1;32m    735\u001b[0m             \u001b[0;32melse\u001b[0m\u001b[0;34m:\u001b[0m\u001b[0;34m\u001b[0m\u001b[0;34m\u001b[0m\u001b[0m\n\u001b[1;32m    736\u001b[0m                 \u001b[0;32mbreak\u001b[0m\u001b[0;34m\u001b[0m\u001b[0;34m\u001b[0m\u001b[0m\n",
            "\u001b[0;31mKeyboardInterrupt\u001b[0m: "
          ]
        }
      ],
      "source": [
        "# calling chat function to start chatting\n",
        "start_chat()"
      ]
    }
  ],
  "metadata": {
    "colab": {
      "name": "CHATBOT.ipynb",
      "provenance": [],
      "authorship_tag": "ABX9TyM1ENUxiBX/XZtVjS5VZbZ7",
      "include_colab_link": true
    },
    "kernelspec": {
      "display_name": "Python 3",
      "name": "python3"
    },
    "language_info": {
      "name": "python"
    }
  },
  "nbformat": 4,
  "nbformat_minor": 0
}